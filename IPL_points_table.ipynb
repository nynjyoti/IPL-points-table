{
 "cells": [
  {
   "cell_type": "markdown",
   "id": "ebbeede7",
   "metadata": {},
   "source": [
    "# IPL Match Details\n",
    "Write a program that reads all the match outcomes and summarizes the information of all the matches in a points table. \n",
    "Points are given to the teams based on the outcome of the match.\n",
    "A win earns a team 3 points. A draw earns 1. A loss earns 0. \n",
    "\n",
    "In the points table the following information is expected:<br>\n",
    "    &emsp; MP: Matches Played<br>\n",
    "    &emsp; W: Matches Won<br>\n",
    "    &emsp; D: Matches Drawn (Tied)<br>\n",
    "    &emsp; L: Matches Lost<br>\n",
    "    &emsp; P: Points<br>\n",
    "    \n",
    "The points table should be ordered by points (descending). In case of a tie, teams are ordered alphabetically.\n",
    "\n",
    "#### Input:\n",
    "The first line contains a single integer N, denoting the total no. of matches played. \n",
    "The following N lines contain outcomes of N matches. \n",
    "Each of those lines has information on the teams (T1, T2) which played and the outcome (O) in format T1;T2;O. \n",
    "The outcome (O) is one of 'win', 'loss', 'draw' and refers to the first team listed. \n",
    "See Sample Input/Output for better understanding.\n",
    "\n",
    "#### Output:\n",
    "The output should contain a table. \n",
    "The table will have a header and row entries. \n",
    "There should be a row entry for each team. \n",
    "The columns in the header are Team, MP, W, D, L, P. \n",
    "The columns of the table are separated by '|' character. \n",
    "The content of each column will have space before the content and a space after the content. \n",
    "Each column will have a max-width which the content can occupy. \n",
    "The Team column content width is 23 characters, left-aligned. \n",
    "Other columns have content width of 2 characters, right-aligned.\n",
    "\n",
    "#### Constraints:\n",
    "Names of teams may contain spaces but will be less than 24 characters.\n",
    "100 >= N >= 0"
   ]
  },
  {
   "cell_type": "markdown",
   "id": "e0dc7a38",
   "metadata": {},
   "source": [
    "#### Input:"
   ]
  },
  {
   "cell_type": "markdown",
   "id": "563ef193",
   "metadata": {},
   "source": [
    "6<br>\n",
    "CSK;RR;win<br>\n",
    "RR;DD;draw<br>\n",
    "MI;KKR;win<br>\n",
    "SH;RR;loss<br>\n",
    "CSK;DD;draw<br>\n",
    "MI;DD;draw<br>"
   ]
  },
  {
   "attachments": {
    "image.png": {
     "image/png": "[encoded data removed]"
    }
   },
   "cell_type": "markdown",
   "id": "69d188ee",
   "metadata": {},
   "source": [
    "![image.png](attachment:image.png)"
   ]
  },
  {
   "cell_type": "code",
   "execution_count": 8,
   "id": "4067ec35",
   "metadata": {},
   "outputs": [
    {
     "name": "stdout",
     "output_type": "stream",
     "text": [
      "6\n",
      "CSK;RR;win\n",
      "RR;DD;draw\n",
      "MI;KKR;win\n",
      "SH;RR;loss\n",
      "CSK;DD;draw\n",
      "MI;DD;draw\n",
      "Team                    | MP |  W |  D |  L |  P |\n",
      "CSK                     |  2 |  1 |  1 |  0 |  4 |\n",
      "MI                      |  2 |  1 |  1 |  0 |  4 |\n",
      "RR                      |  3 |  1 |  1 |  1 |  4 |\n",
      "DD                      |  3 |  0 |  3 |  0 |  3 |\n",
      "KKR                     |  1 |  0 |  0 |  1 |  0 |\n",
      "SH                      |  1 |  0 |  0 |  1 |  0 |\n"
     ]
    }
   ],
   "source": [
    "\n",
    "# team to store all the details\n",
    "class Team:\n",
    "    def __init__(self,name):\n",
    "        self.name = name\n",
    "        self.mp = 0\n",
    "        self.w = 0 \n",
    "        self.d = 0 \n",
    "        self.l = 0\n",
    "        self.p = 0\n",
    "        \n",
    "    # updating the table for winning team\n",
    "    def update_status1(self,status):\n",
    "        if status == 'win':\n",
    "            self.mp += 1\n",
    "            self.w += 1\n",
    "            self.p += 3\n",
    "        elif status == 'loss':\n",
    "            self.mp += 1\n",
    "            self.l += 1\n",
    "        elif status == 'draw':\n",
    "            self.mp += 1\n",
    "            self.d += 1\n",
    "            self.p += 1\n",
    "        else : \n",
    "            raise ValueError(\"check the input please\")\n",
    "            \n",
    "    # updating the table for losing team\n",
    "    def update_status2(self,status):\n",
    "        if status == 'win':\n",
    "            self.mp += 1\n",
    "            self.l += 1\n",
    "        elif status == 'loss':\n",
    "            self.mp += 1\n",
    "            self.w += 1\n",
    "            self.p += 3\n",
    "        elif status == 'draw':\n",
    "            self.mp += 1\n",
    "            self.d += 1\n",
    "            self.p += 1\n",
    "        else : \n",
    "            raise ValueError(\"check the input please\")\n",
    "\n",
    "\n",
    "# no of input commands\n",
    "n = int(input())\n",
    "a = [] # list of team objects of the teams\n",
    "c = [] # list of string objects of the teams \n",
    "x = 0\n",
    "for i in range(n):\n",
    "    b = input().split(';')\n",
    "    \n",
    "    # checking if the team is already added or not\n",
    "    if b[0] not in c :\n",
    "        # updating list of team objects of the teams\n",
    "        a += [Team(b[0])] \n",
    "        # updating list of string objects of the teams\n",
    "        c += [b[0]]\n",
    "    \n",
    "    # checking if the team is already added or not    \n",
    "    if b[1] not in c :\n",
    "        # updating list of team objects of the teams\n",
    "        a += [Team(b[1])]\n",
    "        # updating list of string objects of the teams\n",
    "        c += [b[1]]\n",
    "        \n",
    "    # the new teams are added in lists a,c if not added previously\n",
    "        \n",
    "    for i in a:\n",
    "        if i.name == b[0]:\n",
    "            i.update_status1(b[2])\n",
    "    # calling for status update of winning team \n",
    "            \n",
    "    for i in a:\n",
    "        if i.name == b[1]:\n",
    "            i.update_status2(b[2])\n",
    "    # calling for status update of losing team\n",
    "\n",
    "# soting on basis of points and names        \n",
    "a.sort(key = lambda z : (-z.p,z.name))\n",
    "\n",
    "# printing the table\n",
    "print('{:<23} | {:>2} | {:>2} | {:>2} | {:>2} | {:>2} |'.format('Team','MP','W','D','L','P'))\n",
    "\n",
    "for i in a:\n",
    "    print('{:<23} | {:>2} | {:>2} | {:>2} | {:>2} | {:>2} |'.format(i.name,i.mp,i.w,i.d,i.l,i.p))\n"
   ]
  }
 ],
 "metadata": {
  "kernelspec": {
   "display_name": "Python 3 (ipykernel)",
   "language": "python",
   "name": "python3"
  },
  "language_info": {
   "codemirror_mode": {
    "name": "ipython",
    "version": 3
   },
   "file_extension": ".py",
   "mimetype": "text/x-python",
   "name": "python",
   "nbconvert_exporter": "python",
   "pygments_lexer": "ipython3",
   "version": "3.9.5"
  }
 },
 "nbformat": 4,
 "nbformat_minor": 5
}
